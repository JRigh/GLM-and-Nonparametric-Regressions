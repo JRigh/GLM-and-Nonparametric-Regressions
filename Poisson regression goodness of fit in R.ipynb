{
 "cells": [
  {
   "cell_type": "markdown",
   "metadata": {},
   "source": [
    "# Poisson regression goodness of fit in R\n",
    "\n",
    "In this notebook, we'll apply our knowledge of goodness of fit metrics for Poission regression to the `bike` data from a previous lesson. \n",
    "\n",
    "Recall that the goal of the `bike` data is to keep count of cyclists entering and leaving Queens, Manhattan and Brooklyn via the East River Bridges. The Traffic Information Management System (TIMS) collected this count data for several months during 2017. Each record represents the total number of cyclists per 24 hours at Brooklyn Bridge, Manhattan Bridge, Williamsburg Bridge, and Queensboro Bridge. Also included in the dataset are date and temperature imformation.\n",
    "\n",
    "Column Name\tand Column Description\n",
    "\n",
    "1. `date`: Date the count was conducted\n",
    "\n",
    "\n",
    "2. `day`: Day of the week the count was conducted\n",
    "\n",
    "\n",
    "3. `temp_h`: The high temperature for that day in fahrenheit\n",
    "\n",
    "\n",
    "4. `temp_l`:\tThe low temperature for that night in fahrenheit\n",
    "\n",
    "\n",
    "5. `precip`:\tThe amount of precipitation for that day in inches\n",
    "\n",
    "\n",
    "6. `bb`: Total number of cyclist counts at Brooklyn Bridge in a 24 hour period\n",
    "\n",
    "\n",
    "7. `mb`: Total number of cyclist counts at Manhattan Bridge in a 24 hour period\n",
    "\n",
    "\n",
    "8. `wb`: Total number of cyclist counts at Williamburg Bridge in a 24 hour period\n",
    "\n",
    "\n",
    "9. `qb`:\tTotal number of cyclist counts at Queensboro Bridge in a 24 hour period\n",
    "\n",
    "\n",
    "10. `total`: The number of cyclist counts for all the East River Bridges combined in a 24 hour period\n",
    "\n",
    "**Our goal will be to try to use the weather data to explain the total number of cyclists on the Manhattan Bridge on any given day.**\n",
    "\n",
    "Here's the code to load and clean the data:"
   ]
  },
  {
   "cell_type": "code",
   "execution_count": 1,
   "metadata": {},
   "outputs": [
    {
     "name": "stderr",
     "output_type": "stream",
     "text": [
      "\n",
      "Attaching package: ‘lubridate’\n",
      "\n",
      "\n",
      "The following objects are masked from ‘package:base’:\n",
      "\n",
      "    date, intersect, setdiff, union\n",
      "\n",
      "\n",
      "── \u001b[1mAttaching packages\u001b[22m ─────────────────────────────────────── tidyverse 1.3.0 ──\n",
      "\n",
      "\u001b[32m✔\u001b[39m \u001b[34mggplot2\u001b[39m 3.3.0     \u001b[32m✔\u001b[39m \u001b[34mpurrr  \u001b[39m 0.3.4\n",
      "\u001b[32m✔\u001b[39m \u001b[34mtibble \u001b[39m 3.2.1     \u001b[32m✔\u001b[39m \u001b[34mdplyr  \u001b[39m 1.1.2\n",
      "\u001b[32m✔\u001b[39m \u001b[34mtidyr  \u001b[39m 1.0.2     \u001b[32m✔\u001b[39m \u001b[34mstringr\u001b[39m 1.4.0\n",
      "\u001b[32m✔\u001b[39m \u001b[34mreadr  \u001b[39m 1.3.1     \u001b[32m✔\u001b[39m \u001b[34mforcats\u001b[39m 0.5.0\n",
      "\n",
      "── \u001b[1mConflicts\u001b[22m ────────────────────────────────────────── tidyverse_conflicts() ──\n",
      "\u001b[31m✖\u001b[39m \u001b[34mlubridate\u001b[39m::\u001b[32mas.difftime()\u001b[39m masks \u001b[34mbase\u001b[39m::as.difftime()\n",
      "\u001b[31m✖\u001b[39m \u001b[34mlubridate\u001b[39m::\u001b[32mdate()\u001b[39m        masks \u001b[34mbase\u001b[39m::date()\n",
      "\u001b[31m✖\u001b[39m \u001b[34mdplyr\u001b[39m::\u001b[32mfilter()\u001b[39m          masks \u001b[34mstats\u001b[39m::filter()\n",
      "\u001b[31m✖\u001b[39m \u001b[34mlubridate\u001b[39m::\u001b[32mintersect()\u001b[39m   masks \u001b[34mbase\u001b[39m::intersect()\n",
      "\u001b[31m✖\u001b[39m \u001b[34mdplyr\u001b[39m::\u001b[32mlag()\u001b[39m             masks \u001b[34mstats\u001b[39m::lag()\n",
      "\u001b[31m✖\u001b[39m \u001b[34mlubridate\u001b[39m::\u001b[32msetdiff()\u001b[39m     masks \u001b[34mbase\u001b[39m::setdiff()\n",
      "\u001b[31m✖\u001b[39m \u001b[34mlubridate\u001b[39m::\u001b[32munion()\u001b[39m       masks \u001b[34mbase\u001b[39m::union()\n",
      "\n"
     ]
    },
    {
     "data": {
      "text/plain": [
       "      date                   day         temp_h         temp_l     \n",
       " Min.   :2021-04-01   Friday   :30   Min.   :46.0   Min.   :37.00  \n",
       " 1st Qu.:2021-05-24   Monday   :31   1st Qu.:66.9   1st Qu.:55.23  \n",
       " Median :2021-07-16   Saturday :31   Median :75.9   Median :64.00  \n",
       " Mean   :2021-07-16   Sunday   :31   Mean   :74.2   Mean   :62.03  \n",
       " 3rd Qu.:2021-09-07   Thursday :30   3rd Qu.:82.0   3rd Qu.:70.00  \n",
       " Max.   :2021-10-31   Tuesday  :31   Max.   :93.9   Max.   :78.10  \n",
       "                      Wednesday:30                                 \n",
       "     precip             bb             mb             wb             qb      \n",
       " Min.   :0.0000   Min.   : 151   Min.   : 484   Min.   : 874   Min.   : 865  \n",
       " 1st Qu.:0.0000   1st Qu.:2298   1st Qu.:4308   1st Qu.:5115   1st Qu.:3746  \n",
       " Median :0.0000   Median :2857   Median :5608   Median :6287   Median :4681  \n",
       " Mean   :0.1318   Mean   :2680   Mean   :5345   Mean   :6052   Mean   :4550  \n",
       " 3rd Qu.:0.0375   3rd Qu.:3285   3rd Qu.:6760   3rd Qu.:7512   3rd Qu.:5692  \n",
       " Max.   :3.0300   Max.   :4960   Max.   :8239   Max.   :8873   Max.   :6582  \n",
       "                                                                             \n",
       "     total      \n",
       " Min.   : 2374  \n",
       " 1st Qu.:15705  \n",
       " Median :19367  \n",
       " Mean   :18628  \n",
       " 3rd Qu.:23152  \n",
       " Max.   :26969  \n",
       "                "
      ]
     },
     "metadata": {},
     "output_type": "display_data"
    },
    {
     "data": {
      "text/html": [
       "<style>\n",
       ".dl-inline {width: auto; margin:0; padding: 0}\n",
       ".dl-inline>dt, .dl-inline>dd {float: none; width: auto; display: inline-block}\n",
       ".dl-inline>dt::after {content: \":\\0020\"; padding-right: .5ex}\n",
       ".dl-inline>dt:not(:first-of-type) {padding-left: .5ex}\n",
       "</style><dl class=dl-inline><dt>date</dt><dd>'Date'</dd><dt>day</dt><dd>'factor'</dd><dt>temp_h</dt><dd>'numeric'</dd><dt>temp_l</dt><dd>'numeric'</dd><dt>precip</dt><dd>'numeric'</dd><dt>bb</dt><dd>'numeric'</dd><dt>mb</dt><dd>'numeric'</dd><dt>wb</dt><dd>'numeric'</dd><dt>qb</dt><dd>'numeric'</dd><dt>total</dt><dd>'numeric'</dd></dl>\n"
      ],
      "text/latex": [
       "\\begin{description*}\n",
       "\\item[date] 'Date'\n",
       "\\item[day] 'factor'\n",
       "\\item[temp\\textbackslash{}\\_h] 'numeric'\n",
       "\\item[temp\\textbackslash{}\\_l] 'numeric'\n",
       "\\item[precip] 'numeric'\n",
       "\\item[bb] 'numeric'\n",
       "\\item[mb] 'numeric'\n",
       "\\item[wb] 'numeric'\n",
       "\\item[qb] 'numeric'\n",
       "\\item[total] 'numeric'\n",
       "\\end{description*}\n"
      ],
      "text/markdown": [
       "date\n",
       ":   'Date'day\n",
       ":   'factor'temp_h\n",
       ":   'numeric'temp_l\n",
       ":   'numeric'precip\n",
       ":   'numeric'bb\n",
       ":   'numeric'mb\n",
       ":   'numeric'wb\n",
       ":   'numeric'qb\n",
       ":   'numeric'total\n",
       ":   'numeric'\n",
       "\n"
      ],
      "text/plain": [
       "     date       day    temp_h    temp_l    precip        bb        mb        wb \n",
       "   \"Date\"  \"factor\" \"numeric\" \"numeric\" \"numeric\" \"numeric\" \"numeric\" \"numeric\" \n",
       "       qb     total \n",
       "\"numeric\" \"numeric\" "
      ]
     },
     "metadata": {},
     "output_type": "display_data"
    },
    {
     "data": {
      "text/html": [
       "<table>\n",
       "<caption>A data.frame: 6 × 10</caption>\n",
       "<thead>\n",
       "\t<tr><th></th><th scope=col>date</th><th scope=col>day</th><th scope=col>temp_h</th><th scope=col>temp_l</th><th scope=col>precip</th><th scope=col>bb</th><th scope=col>mb</th><th scope=col>wb</th><th scope=col>qb</th><th scope=col>total</th></tr>\n",
       "\t<tr><th></th><th scope=col>&lt;date&gt;</th><th scope=col>&lt;fct&gt;</th><th scope=col>&lt;dbl&gt;</th><th scope=col>&lt;dbl&gt;</th><th scope=col>&lt;dbl&gt;</th><th scope=col>&lt;dbl&gt;</th><th scope=col>&lt;dbl&gt;</th><th scope=col>&lt;dbl&gt;</th><th scope=col>&lt;dbl&gt;</th><th scope=col>&lt;dbl&gt;</th></tr>\n",
       "</thead>\n",
       "<tbody>\n",
       "\t<tr><th scope=row>1</th><td>2021-04-01</td><td>Saturday </td><td>46.0</td><td>37</td><td>0.00</td><td> 606</td><td>1446</td><td>1915</td><td>1430</td><td> 5397</td></tr>\n",
       "\t<tr><th scope=row>2</th><td>2021-04-02</td><td>Sunday   </td><td>62.1</td><td>41</td><td>0.00</td><td>2021</td><td>3943</td><td>4207</td><td>2862</td><td>13033</td></tr>\n",
       "\t<tr><th scope=row>3</th><td>2021-04-03</td><td>Monday   </td><td>63.0</td><td>50</td><td>0.03</td><td>2470</td><td>4988</td><td>5178</td><td>3689</td><td>16325</td></tr>\n",
       "\t<tr><th scope=row>4</th><td>2021-04-04</td><td>Tuesday  </td><td>51.1</td><td>46</td><td>1.18</td><td> 723</td><td>1913</td><td>2279</td><td>1666</td><td> 6581</td></tr>\n",
       "\t<tr><th scope=row>5</th><td>2021-04-05</td><td>Wednesday</td><td>63.0</td><td>46</td><td>0.00</td><td>2807</td><td>5276</td><td>5711</td><td>4197</td><td>17991</td></tr>\n",
       "\t<tr><th scope=row>6</th><td>2021-04-06</td><td>Thursday </td><td>48.9</td><td>41</td><td>0.73</td><td> 461</td><td>1324</td><td>1739</td><td>1372</td><td> 4896</td></tr>\n",
       "</tbody>\n",
       "</table>\n"
      ],
      "text/latex": [
       "A data.frame: 6 × 10\n",
       "\\begin{tabular}{r|llllllllll}\n",
       "  & date & day & temp\\_h & temp\\_l & precip & bb & mb & wb & qb & total\\\\\n",
       "  & <date> & <fct> & <dbl> & <dbl> & <dbl> & <dbl> & <dbl> & <dbl> & <dbl> & <dbl>\\\\\n",
       "\\hline\n",
       "\t1 & 2021-04-01 & Saturday  & 46.0 & 37 & 0.00 &  606 & 1446 & 1915 & 1430 &  5397\\\\\n",
       "\t2 & 2021-04-02 & Sunday    & 62.1 & 41 & 0.00 & 2021 & 3943 & 4207 & 2862 & 13033\\\\\n",
       "\t3 & 2021-04-03 & Monday    & 63.0 & 50 & 0.03 & 2470 & 4988 & 5178 & 3689 & 16325\\\\\n",
       "\t4 & 2021-04-04 & Tuesday   & 51.1 & 46 & 1.18 &  723 & 1913 & 2279 & 1666 &  6581\\\\\n",
       "\t5 & 2021-04-05 & Wednesday & 63.0 & 46 & 0.00 & 2807 & 5276 & 5711 & 4197 & 17991\\\\\n",
       "\t6 & 2021-04-06 & Thursday  & 48.9 & 41 & 0.73 &  461 & 1324 & 1739 & 1372 &  4896\\\\\n",
       "\\end{tabular}\n"
      ],
      "text/markdown": [
       "\n",
       "A data.frame: 6 × 10\n",
       "\n",
       "| <!--/--> | date &lt;date&gt; | day &lt;fct&gt; | temp_h &lt;dbl&gt; | temp_l &lt;dbl&gt; | precip &lt;dbl&gt; | bb &lt;dbl&gt; | mb &lt;dbl&gt; | wb &lt;dbl&gt; | qb &lt;dbl&gt; | total &lt;dbl&gt; |\n",
       "|---|---|---|---|---|---|---|---|---|---|---|\n",
       "| 1 | 2021-04-01 | Saturday  | 46.0 | 37 | 0.00 |  606 | 1446 | 1915 | 1430 |  5397 |\n",
       "| 2 | 2021-04-02 | Sunday    | 62.1 | 41 | 0.00 | 2021 | 3943 | 4207 | 2862 | 13033 |\n",
       "| 3 | 2021-04-03 | Monday    | 63.0 | 50 | 0.03 | 2470 | 4988 | 5178 | 3689 | 16325 |\n",
       "| 4 | 2021-04-04 | Tuesday   | 51.1 | 46 | 1.18 |  723 | 1913 | 2279 | 1666 |  6581 |\n",
       "| 5 | 2021-04-05 | Wednesday | 63.0 | 46 | 0.00 | 2807 | 5276 | 5711 | 4197 | 17991 |\n",
       "| 6 | 2021-04-06 | Thursday  | 48.9 | 41 | 0.73 |  461 | 1324 | 1739 | 1372 |  4896 |\n",
       "\n"
      ],
      "text/plain": [
       "  date       day       temp_h temp_l precip bb   mb   wb   qb   total\n",
       "1 2021-04-01 Saturday  46.0   37     0.00    606 1446 1915 1430  5397\n",
       "2 2021-04-02 Sunday    62.1   41     0.00   2021 3943 4207 2862 13033\n",
       "3 2021-04-03 Monday    63.0   50     0.03   2470 4988 5178 3689 16325\n",
       "4 2021-04-04 Tuesday   51.1   46     1.18    723 1913 2279 1666  6581\n",
       "5 2021-04-05 Wednesday 63.0   46     0.00   2807 5276 5711 4197 17991\n",
       "6 2021-04-06 Thursday  48.9   41     0.73    461 1324 1739 1372  4896"
      ]
     },
     "metadata": {},
     "output_type": "display_data"
    }
   ],
   "source": [
    "library(lubridate) #for the ymd() function\n",
    "library(tidyverse)\n",
    "\n",
    "# Read in the data\n",
    "bike = read.csv(\"bike.csv\")\n",
    "\n",
    "#replace T for 0...\n",
    "bike = bike %>%\n",
    "    mutate(precip = fct_recode(precip, \"0\" = \"T\"))\n",
    "\n",
    "#wrangle the data\n",
    "bike = bike %>%\n",
    "    mutate(date = as.Date(as.character(date),format='%m/%d')) %>%\n",
    "    mutate(precip = as.numeric(as.character(precip)))\n",
    "           \n",
    "#fix the year of the date variable\n",
    "bike$date = ymd(as.character(bike$date)) - years(3)\n",
    "\n",
    "#summarize and confirm data types\n",
    "summary(bike)\n",
    "sapply(bike, class)\n",
    "head(bike)"
   ]
  },
  {
   "cell_type": "markdown",
   "metadata": {},
   "source": [
    "And to split it into a training and test set..."
   ]
  },
  {
   "cell_type": "code",
   "execution_count": 2,
   "metadata": {},
   "outputs": [],
   "source": [
    "set.seed(8585)\n",
    "bound = floor(nrow(bike)*0.8) #define % of training and test set\n",
    "\n",
    "df = bike[sample(nrow(bike)), ]       #sample rows \n",
    "df_train = df[1:bound, ]              #get training set\n",
    "df_test = df[(bound+1):nrow(bike), ]  #get test set"
   ]
  },
  {
   "cell_type": "markdown",
   "metadata": {},
   "source": [
    "In our lesson on fitting the Poisson regression model on this data, we saw that the fitted vs actual plots did not look great. Let's now dig a little deeper into our goodness of fit metrics. First, let's consider the deviance test that we studied in an earlier lesson. Recall that we can use $D_{resid} \\sim \\chi^2\\big(n - p+1 \\big)$ in a test of the fit of our model. The hypotheses under consideration are:\n",
    "\n",
    "$H_0:$ The Poisson model with `day`, `temp_h`, `temp_l`, and `precip` fits well enough. vs.\n",
    "\n",
    "\n",
    "$H_1:$ The Poisson model with `day`, `temp_h`, `temp_l`, and `precip` does *not* fit well enough.\n",
    "\n",
    "We will reject the null hypothesis when $D_{resid}$ is too large (an upper-tailed chi-squared test). Let's let $\\alpha = 0.05$. "
   ]
  },
  {
   "cell_type": "code",
   "execution_count": 3,
   "metadata": {},
   "outputs": [
    {
     "data": {
      "text/html": [
       "0"
      ],
      "text/latex": [
       "0"
      ],
      "text/markdown": [
       "0"
      ],
      "text/plain": [
       "[1] 0"
      ]
     },
     "metadata": {},
     "output_type": "display_data"
    }
   ],
   "source": [
    "#Run the model first...\n",
    "glm_bike = glm(mb ~ precip + temp_h + temp_l + day, data = df_train, family = poisson)\n",
    "\n",
    "#Calculate the chi-squared p-value\n",
    "pchisq(summary(glm_bike)$deviance,summary(glm_bike)$df.resid, lower.tail = FALSE)"
   ]
  },
  {
   "cell_type": "markdown",
   "metadata": {},
   "source": [
    "The p-value is very small (it's so small it's being rounded to zero in R!), so we reject the null hypothesis that this is the correct model for the data. There may be several reasons for this rejection:\n",
    "\n",
    "1. There may be outliers inflating the deviance statistic.  (See page 58 of Faraway ELMWR 1)\n",
    "\n",
    "2. The model may be misspecified, in that the structural form may need improvement (e.g., adding or removing predictors). \n",
    "\n",
    "3. There may be overdispersion in the data ([resource](http://biometry.github.io/APES//LectureNotes/2016-JAGS/Overdispersion/OverdispersionJAGS.html))\n",
    "\n",
    "Let's first check for outliers with a halfnormal plot:"
   ]
  },
  {
   "cell_type": "code",
   "execution_count": 4,
   "metadata": {
    "scrolled": false
   },
   "outputs": [
    {
     "ename": "ERROR",
     "evalue": "Error in library(faraway): there is no package called ‘faraway’\n",
     "output_type": "error",
     "traceback": [
      "Error in library(faraway): there is no package called ‘faraway’\nTraceback:\n",
      "1. library(faraway)"
     ]
    }
   ],
   "source": [
    "library(faraway) #for the halfnorm() function\n",
    "\n",
    "options(repr.plot.width = 5, repr.plot.height = 5)\n",
    "halfnorm(residuals(glm_bike))"
   ]
  },
  {
   "cell_type": "markdown",
   "metadata": {},
   "source": [
    "This plot does not reveal any clear outliers in the residuals. We can also look at a deviance residual vs fitted plot:"
   ]
  },
  {
   "cell_type": "code",
   "execution_count": 5,
   "metadata": {
    "scrolled": false
   },
   "outputs": [
    {
     "name": "stderr",
     "output_type": "stream",
     "text": [
      "`geom_smooth()` using formula 'y ~ x'\n",
      "\n"
     ]
    },
    {
     "data": {
      "image/png": "[encoded data removed]",
      "text/plain": [
       "plot without title"
      ]
     },
     "metadata": {
      "image/png": {
       "height": 300,
       "width": 300
      },
      "text/plain": {
       "height": 300,
       "width": 300
      }
     },
     "output_type": "display_data"
    }
   ],
   "source": [
    "options(repr.plot.width = 5, repr.plot.height = 5)\n",
    "p1 = ggplot(glm_bike, aes(.fitted, .resid))+geom_point()\n",
    "p1 = p1+stat_smooth(method=\"loess\", col = \"#CFB87C\")+geom_hline(yintercept=0, col=\"grey\", linetype=\"dashed\")\n",
    "p1 = p1+xlab(\"Fitted values\")+ylab(\"Deviance Residuals\")\n",
    "p1 = p1+ggtitle(\"Residual vs Fitted Plot\")+theme_bw()\n",
    "p1"
   ]
  },
  {
   "cell_type": "markdown",
   "metadata": {},
   "source": [
    "We saw in a previous lesson that the deviance residuals should follow a roughly standard normal distribution. Here, we see some deviation from that assumption. In particular, there appears to be a longer tail in the negative direction. These pieces of evidence suggest that we either are missing predictors or we have overdispersion (these problems are related, in that a missing predictor can be the cause of overdispersion). Let's calculate an estimate of the deviance parameter."
   ]
  },
  {
   "cell_type": "code",
   "execution_count": 6,
   "metadata": {},
   "outputs": [
    {
     "data": {
      "text/html": [
       "205.736418003473"
      ],
      "text/latex": [
       "205.736418003473"
      ],
      "text/markdown": [
       "205.736418003473"
      ],
      "text/plain": [
       "[1] 205.7364"
      ]
     },
     "metadata": {},
     "output_type": "display_data"
    }
   ],
   "source": [
    "dp = sum(residuals(glm_bike, type = \"pearson\")^2)/glm_bike$df.res\n",
    "dp"
   ]
  },
  {
   "cell_type": "markdown",
   "metadata": {},
   "source": [
    "The overdispersion parameter estimate is very large (much greater than one), which suggests overdispersion is present. Based on this estimate, we should consider reasons why overdispersion might be present. Is it *real* overdispersion? Or *apparent* overdispersion?  Plausibly, there may be more factors that contribute to variability than weather and day of the week, which suggests real overdispersion through model mis-specification. Unfortunately, there are no other measured predictors in this dataset to experiment with. \n",
    "\n",
    "For practice with the quasi-likelihood methods, let's implement the quasi-Poisson regression method, using `family = quasipoisson`:"
   ]
  },
  {
   "cell_type": "code",
   "execution_count": 7,
   "metadata": {
    "scrolled": false
   },
   "outputs": [
    {
     "data": {
      "text/plain": [
       "\n",
       "Call:\n",
       "glm(formula = mb ~ precip + temp_h + temp_l + day, family = quasipoisson, \n",
       "    data = df_train)\n",
       "\n",
       "Deviance Residuals: \n",
       "    Min       1Q   Median       3Q      Max  \n",
       "-41.577   -7.122    2.309    8.523   38.973  \n",
       "\n",
       "Coefficients:\n",
       "              Estimate Std. Error t value Pr(>|t|)    \n",
       "(Intercept)   7.760501   0.126352  61.420  < 2e-16 ***\n",
       "precip       -0.673375   0.071029  -9.480  < 2e-16 ***\n",
       "temp_h        0.023233   0.003346   6.943 8.92e-11 ***\n",
       "temp_l       -0.013967   0.003620  -3.858 0.000165 ***\n",
       "dayMonday     0.075862   0.055590   1.365 0.174261    \n",
       "daySaturday  -0.199392   0.060552  -3.293 0.001219 ** \n",
       "daySunday    -0.261858   0.062257  -4.206 4.30e-05 ***\n",
       "dayThursday   0.099943   0.055377   1.805 0.072980 .  \n",
       "dayTuesday    0.141926   0.055155   2.573 0.010978 *  \n",
       "dayWednesday  0.158057   0.055098   2.869 0.004675 ** \n",
       "---\n",
       "Signif. codes:  0 ‘***’ 0.001 ‘**’ 0.01 ‘*’ 0.05 ‘.’ 0.1 ‘ ’ 1\n",
       "\n",
       "(Dispersion parameter for quasipoisson family taken to be 205.7413)\n",
       "\n",
       "    Null deviance: 110729  on 170  degrees of freedom\n",
       "Residual deviance:  34454  on 161  degrees of freedom\n",
       "AIC: NA\n",
       "\n",
       "Number of Fisher Scoring iterations: 4\n"
      ]
     },
     "metadata": {},
     "output_type": "display_data"
    },
    {
     "data": {
      "text/plain": [
       "\n",
       "Call:\n",
       "glm(formula = mb ~ precip + temp_h + temp_l + day, family = poisson, \n",
       "    data = df_train)\n",
       "\n",
       "Deviance Residuals: \n",
       "    Min       1Q   Median       3Q      Max  \n",
       "-41.577   -7.122    2.309    8.523   38.973  \n",
       "\n",
       "Coefficients:\n",
       "               Estimate Std. Error z value Pr(>|z|)    \n",
       "(Intercept)   7.7605007  0.0088089  880.98   <2e-16 ***\n",
       "precip       -0.6733753  0.0049519 -135.98   <2e-16 ***\n",
       "temp_h        0.0232326  0.0002333   99.59   <2e-16 ***\n",
       "temp_l       -0.0139666  0.0002524  -55.34   <2e-16 ***\n",
       "dayMonday     0.0758621  0.0038756   19.57   <2e-16 ***\n",
       "daySaturday  -0.1993917  0.0042215  -47.23   <2e-16 ***\n",
       "daySunday    -0.2618583  0.0043404  -60.33   <2e-16 ***\n",
       "dayThursday   0.0999425  0.0038607   25.89   <2e-16 ***\n",
       "dayTuesday    0.1419263  0.0038452   36.91   <2e-16 ***\n",
       "dayWednesday  0.1580572  0.0038413   41.15   <2e-16 ***\n",
       "---\n",
       "Signif. codes:  0 ‘***’ 0.001 ‘**’ 0.01 ‘*’ 0.05 ‘.’ 0.1 ‘ ’ 1\n",
       "\n",
       "(Dispersion parameter for poisson family taken to be 1)\n",
       "\n",
       "    Null deviance: 110729  on 170  degrees of freedom\n",
       "Residual deviance:  34454  on 161  degrees of freedom\n",
       "AIC: 36242\n",
       "\n",
       "Number of Fisher Scoring iterations: 4\n"
      ]
     },
     "metadata": {},
     "output_type": "display_data"
    },
    {
     "name": "stdout",
     "output_type": "stream",
     "text": [
      "Confirming the standard error adjustment for the intercept:  0.1263506 ."
     ]
    }
   ],
   "source": [
    "glm_bike_qp = glm(mb ~ precip + temp_h + temp_l + day, data = df_train, family = quasipoisson)\n",
    "#or summary(glm_bike, dispersion = dp)\n",
    "summary(glm_bike_qp)\n",
    "summary(glm_bike)\n",
    "cat(\"Confirming the standard error adjustment for the intercept: \", sqrt(205.736418003473)*0.0088089,\".\")"
   ]
  },
  {
   "cell_type": "markdown",
   "metadata": {},
   "source": [
    "The Poisson model appears to be a bad fit. The quasi Poisson model adjusts the standard errors, and we see that that adjustment changes the significance of some of the levels of the day-of-week factor. We can test whether we should leave the day-of-week factor in the model. When comparing overdispersed models, where we're estimating a dispersion parameter $\\phi$, we use an F-test. The `drop1()` function will conduct several F-tests, and we'll use it to extract the F-test associated with dropping the `day` factor."
   ]
  },
  {
   "cell_type": "code",
   "execution_count": 8,
   "metadata": {
    "scrolled": true
   },
   "outputs": [
    {
     "data": {
      "text/html": [
       "<table>\n",
       "<caption>A anova: 5 × 4</caption>\n",
       "<thead>\n",
       "\t<tr><th></th><th scope=col>Df</th><th scope=col>Deviance</th><th scope=col>F value</th><th scope=col>Pr(&gt;F)</th></tr>\n",
       "\t<tr><th></th><th scope=col>&lt;dbl&gt;</th><th scope=col>&lt;dbl&gt;</th><th scope=col>&lt;dbl&gt;</th><th scope=col>&lt;dbl&gt;</th></tr>\n",
       "</thead>\n",
       "<tbody>\n",
       "\t<tr><th scope=row>&lt;none&gt;</th><td>NA</td><td>34454.22</td><td>       NA</td><td>          NA</td></tr>\n",
       "\t<tr><th scope=row>precip</th><td> 1</td><td>58750.13</td><td>113.53154</td><td>2.131556e-20</td></tr>\n",
       "\t<tr><th scope=row>temp_h</th><td> 1</td><td>44350.69</td><td> 46.24485</td><td>1.937634e-10</td></tr>\n",
       "\t<tr><th scope=row>temp_l</th><td> 1</td><td>37500.81</td><td> 14.23629</td><td>2.262242e-04</td></tr>\n",
       "\t<tr><th scope=row>day</th><td> 6</td><td>53944.33</td><td> 15.17911</td><td>9.716982e-14</td></tr>\n",
       "</tbody>\n",
       "</table>\n"
      ],
      "text/latex": [
       "A anova: 5 × 4\n",
       "\\begin{tabular}{r|llll}\n",
       "  & Df & Deviance & F value & Pr(>F)\\\\\n",
       "  & <dbl> & <dbl> & <dbl> & <dbl>\\\\\n",
       "\\hline\n",
       "\t<none> & NA & 34454.22 &        NA &           NA\\\\\n",
       "\tprecip &  1 & 58750.13 & 113.53154 & 2.131556e-20\\\\\n",
       "\ttemp\\_h &  1 & 44350.69 &  46.24485 & 1.937634e-10\\\\\n",
       "\ttemp\\_l &  1 & 37500.81 &  14.23629 & 2.262242e-04\\\\\n",
       "\tday &  6 & 53944.33 &  15.17911 & 9.716982e-14\\\\\n",
       "\\end{tabular}\n"
      ],
      "text/markdown": [
       "\n",
       "A anova: 5 × 4\n",
       "\n",
       "| <!--/--> | Df &lt;dbl&gt; | Deviance &lt;dbl&gt; | F value &lt;dbl&gt; | Pr(&gt;F) &lt;dbl&gt; |\n",
       "|---|---|---|---|---|\n",
       "| &lt;none&gt; | NA | 34454.22 |        NA |           NA |\n",
       "| precip |  1 | 58750.13 | 113.53154 | 2.131556e-20 |\n",
       "| temp_h |  1 | 44350.69 |  46.24485 | 1.937634e-10 |\n",
       "| temp_l |  1 | 37500.81 |  14.23629 | 2.262242e-04 |\n",
       "| day |  6 | 53944.33 |  15.17911 | 9.716982e-14 |\n",
       "\n"
      ],
      "text/plain": [
       "       Df Deviance F value   Pr(>F)      \n",
       "<none> NA 34454.22        NA           NA\n",
       "precip  1 58750.13 113.53154 2.131556e-20\n",
       "temp_h  1 44350.69  46.24485 1.937634e-10\n",
       "temp_l  1 37500.81  14.23629 2.262242e-04\n",
       "day     6 53944.33  15.17911 9.716982e-14"
      ]
     },
     "metadata": {},
     "output_type": "display_data"
    }
   ],
   "source": [
    "drop1(glm_bike_qp, test = \"F\")"
   ]
  },
  {
   "cell_type": "markdown",
   "metadata": {},
   "source": [
    " We see that the p-value for `day` is small ($F \\approx 15.18$) and so we reject $H_0$ that the `day` factor is unnecessary, and choose to keep this factor in the model. At this point, without other predictors to use to explain variability, or imposing other assumptions on the data, this might be the best we can do!"
   ]
  },
  {
   "cell_type": "code",
   "execution_count": null,
   "metadata": {},
   "outputs": [],
   "source": []
  },
  {
   "cell_type": "code",
   "execution_count": null,
   "metadata": {},
   "outputs": [],
   "source": []
  }
 ],
 "metadata": {
  "kernelspec": {
   "display_name": "R",
   "language": "R",
   "name": "ir"
  }
 },
 "nbformat": 4,
 "nbformat_minor": 2
}
